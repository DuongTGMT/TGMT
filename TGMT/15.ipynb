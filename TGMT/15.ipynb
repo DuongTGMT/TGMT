{
 "cells": [
  {
   "cell_type": "code",
   "execution_count": 2,
   "id": "b2778f39-7589-45da-bb28-98e68c7439ef",
   "metadata": {},
   "outputs": [
    {
     "name": "stdout",
     "output_type": "stream",
     "text": [
      "Kết quả:  [-0.33333333  2.66666667]\n"
     ]
    }
   ],
   "source": [
    "from scipy import linalg\n",
    "import numpy as np\n",
    "A = np.array([[1, 2],[3, 3]])\n",
    "b = np.array([5,7])\n",
    "x = linalg.solve(A, b)\n",
    "print('Kết quả: ', x)"
   ]
  },
  {
   "cell_type": "code",
   "execution_count": 4,
   "id": "0486f605-8663-4c73-a143-4e77f07fcb44",
   "metadata": {},
   "outputs": [
    {
     "name": "stdout",
     "output_type": "stream",
     "text": [
      "Tích phân f(x) từ 0 đến 1:  (0.33333333333333337, 3.700743415417189e-15)\n"
     ]
    }
   ],
   "source": [
    "from scipy import integrate\n",
    "def my_function(x):\n",
    "    return x**2\n",
    "integral = integrate.quad(my_function, 0, 1);\n",
    "print('Tích phân f(x) từ 0 đến 1: ', integral)"
   ]
  },
  {
   "cell_type": "code",
   "execution_count": 5,
   "id": "75297c71-6eb0-40c1-b9d2-30c2548ea998",
   "metadata": {},
   "outputs": [
    {
     "name": "stdout",
     "output_type": "stream",
     "text": [
      "Giá trị riêng:  [3.73205081+0.j 0.26794919+0.j]\n",
      "Vector riêng:  [[ 0.5       -0.5      ]\n",
      " [ 0.8660254  0.8660254]]\n"
     ]
    }
   ],
   "source": [
    "from scipy import linalg\n",
    "import numpy as np\n",
    "A = np.array([[2,1], [3,2]])\n",
    "evals, evecs = linalg.eig(A)\n",
    "print('Giá trị riêng: ', evals)\n",
    "print('Vector riêng: ', evecs)"
   ]
  },
  {
   "cell_type": "code",
   "execution_count": null,
   "id": "7e67dd40-9654-478c-9e6b-af28b6309246",
   "metadata": {},
   "outputs": [],
   "source": []
  }
 ],
 "metadata": {
  "kernelspec": {
   "display_name": "Python 3 (ipykernel)",
   "language": "python",
   "name": "python3"
  },
  "language_info": {
   "codemirror_mode": {
    "name": "ipython",
    "version": 3
   },
   "file_extension": ".py",
   "mimetype": "text/x-python",
   "name": "python",
   "nbconvert_exporter": "python",
   "pygments_lexer": "ipython3",
   "version": "3.12.3"
  }
 },
 "nbformat": 4,
 "nbformat_minor": 5
}
