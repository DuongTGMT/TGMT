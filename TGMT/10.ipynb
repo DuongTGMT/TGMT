{
 "cells": [
  {
   "cell_type": "code",
   "execution_count": 1,
   "id": "1ff3d83b-6477-481c-9e60-cc567a0ae1fe",
   "metadata": {},
   "outputs": [
    {
     "name": "stdout",
     "output_type": "stream",
     "text": [
      "[(263.69354838709677, 389.8709677419356), (914.0161290322583, 610.5161290322582), (1291.4354838709678, 508.9032258064517), (1488.8548387096776, 662.7741935483872), (603.3709677419356, 720.8387096774194), (603.3709677419356, 720.8387096774194)]\n"
     ]
    }
   ],
   "source": [
    "from PIL import Image\n",
    "import matplotlib.pyplot as plt\n",
    "my_path = 'C:/Users/HP/OneDrive/Tài liệu/TGMT/img01.jpg'\n",
    "im = Image.open(my_path)\n",
    "plt.switch_backend('tkagg')\n",
    "plt.imshow(im)\n",
    "plt.title('Nhấp vào hình ảnh để chọn điểm')\n",
    "points = plt.ginput(6)\n",
    "print(points)\n",
    "plt.show()"
   ]
  },
  {
   "cell_type": "code",
   "execution_count": 2,
   "id": "0fac67b4-86f1-42ed-b6a5-fac596b472f8",
   "metadata": {},
   "outputs": [],
   "source": [
    "plt.close()\n",
    "plt.imshow(im)\n",
    "for point in points:\n",
    "    x, y = point\n",
    "    plt.plot(x,y,'r*')\n",
    "plt.show()"
   ]
  },
  {
   "cell_type": "code",
   "execution_count": null,
   "id": "3fe972a3-b6ee-4e35-b5e1-f6068eeb0264",
   "metadata": {},
   "outputs": [],
   "source": []
  }
 ],
 "metadata": {
  "kernelspec": {
   "display_name": "Python 3 (ipykernel)",
   "language": "python",
   "name": "python3"
  },
  "language_info": {
   "codemirror_mode": {
    "name": "ipython",
    "version": 3
   },
   "file_extension": ".py",
   "mimetype": "text/x-python",
   "name": "python",
   "nbconvert_exporter": "python",
   "pygments_lexer": "ipython3",
   "version": "3.12.3"
  }
 },
 "nbformat": 4,
 "nbformat_minor": 5
}
