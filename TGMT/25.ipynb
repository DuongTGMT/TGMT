{
 "cells": [
  {
   "cell_type": "code",
   "execution_count": 5,
   "id": "6a23dd94-0ca9-4e90-8671-5df7a1b956e3",
   "metadata": {},
   "outputs": [],
   "source": [
    "import cv2"
   ]
  },
  {
   "cell_type": "code",
   "execution_count": 6,
   "id": "1450fb35-cd6a-4b7d-ba26-8e88190189b8",
   "metadata": {},
   "outputs": [],
   "source": [
    "def display(title, img):\n",
    "    cv2.imshow(title, img)\n",
    "    cv2.waitKey(0)\n",
    "    cv2.destroyWindow(title)"
   ]
  },
  {
   "cell_type": "code",
   "execution_count": 7,
   "id": "8e58df40-5909-4038-8d0f-274279a1caaf",
   "metadata": {},
   "outputs": [],
   "source": [
    "face_cascade = cv2.CascadeClassifier('C:/Users/HP/TGMT/data/haarcascade_frontalface_default.xml')\n",
    "eye_cascade = cv2.CascadeClassifier('C:/Users/HP/TGMT/data/haarcascade_eye_tree_eyeglasses.xml')"
   ]
  },
  {
   "cell_type": "code",
   "execution_count": 8,
   "id": "d6d82d28-f016-4cc7-9a92-b6feab7ffa57",
   "metadata": {},
   "outputs": [],
   "source": [
    "img = cv2.imread('C:/Users/HP/TGMT/172100358_DoanVuBinhDuong/dataimage_180.jpg')"
   ]
  },
  {
   "cell_type": "code",
   "execution_count": 9,
   "id": "a4825be5-f097-474b-9c5f-bf862c15020f",
   "metadata": {},
   "outputs": [],
   "source": [
    "gray = cv2.cvtColor(img, cv2.COLOR_BGR2GRAY)"
   ]
  },
  {
   "cell_type": "code",
   "execution_count": 10,
   "id": "1a3c41cb-a994-4449-a58f-bb710a2285c6",
   "metadata": {},
   "outputs": [],
   "source": [
    "faces = face_cascade.detectMultiScale(gray, scaleFactor=1.1, minNeighbors=5, minSize=(30,30))"
   ]
  },
  {
   "cell_type": "code",
   "execution_count": 11,
   "id": "db80f2c3-ce12-4cf8-a4aa-5c73ff71f364",
   "metadata": {},
   "outputs": [],
   "source": [
    "eyes = eye_cascade.detectMultiScale(gray, scaleFactor=1.1, minNeighbors=1, minSize=(5,5))"
   ]
  },
  {
   "cell_type": "code",
   "execution_count": 12,
   "id": "03da7ce9-82e3-410c-b388-1fdf8568bc2e",
   "metadata": {},
   "outputs": [],
   "source": [
    "for (x, y, w, h) in faces:\n",
    "    cv2.rectangle(img, (x, y), (x+w, y+h), (0, 255,0), 2)"
   ]
  },
  {
   "cell_type": "code",
   "execution_count": 13,
   "id": "e9b857d5-d67c-4543-9510-dbf45efc7181",
   "metadata": {},
   "outputs": [],
   "source": [
    "for (x, y, w, h) in eyes:\n",
    "    cv2.rectangle(img, (x, y), (x+w, y+h), (255, 0,0), 2)"
   ]
  },
  {
   "cell_type": "code",
   "execution_count": 14,
   "id": "57e4b569-b37e-4cc7-b48e-69979161a9b9",
   "metadata": {},
   "outputs": [
    {
     "ename": "error",
     "evalue": "OpenCV(4.10.0) D:\\a\\opencv-python\\opencv-python\\opencv\\modules\\highgui\\src\\window_w32.cpp:1261: error: (-27:Null pointer) NULL window: 'Faces: ' in function 'cvDestroyWindow'\n",
     "output_type": "error",
     "traceback": [
      "\u001b[1;31m---------------------------------------------------------------------------\u001b[0m",
      "\u001b[1;31merror\u001b[0m                                     Traceback (most recent call last)",
      "Cell \u001b[1;32mIn[14], line 1\u001b[0m\n\u001b[1;32m----> 1\u001b[0m display(\u001b[38;5;124m'\u001b[39m\u001b[38;5;124mFaces: \u001b[39m\u001b[38;5;124m'\u001b[39m, img)\n",
      "Cell \u001b[1;32mIn[6], line 4\u001b[0m, in \u001b[0;36mdisplay\u001b[1;34m(title, img)\u001b[0m\n\u001b[0;32m      2\u001b[0m cv2\u001b[38;5;241m.\u001b[39mimshow(title, img)\n\u001b[0;32m      3\u001b[0m cv2\u001b[38;5;241m.\u001b[39mwaitKey(\u001b[38;5;241m0\u001b[39m)\n\u001b[1;32m----> 4\u001b[0m cv2\u001b[38;5;241m.\u001b[39mdestroyWindow(title)\n",
      "\u001b[1;31merror\u001b[0m: OpenCV(4.10.0) D:\\a\\opencv-python\\opencv-python\\opencv\\modules\\highgui\\src\\window_w32.cpp:1261: error: (-27:Null pointer) NULL window: 'Faces: ' in function 'cvDestroyWindow'\n"
     ]
    }
   ],
   "source": [
    "display('Faces: ', img)"
   ]
  },
  {
   "cell_type": "code",
   "execution_count": null,
   "id": "1ca67e05-89ba-4be1-839a-586e963305b9",
   "metadata": {},
   "outputs": [],
   "source": []
  }
 ],
 "metadata": {
  "kernelspec": {
   "display_name": "Python 3 (ipykernel)",
   "language": "python",
   "name": "python3"
  },
  "language_info": {
   "codemirror_mode": {
    "name": "ipython",
    "version": 3
   },
   "file_extension": ".py",
   "mimetype": "text/x-python",
   "name": "python",
   "nbconvert_exporter": "python",
   "pygments_lexer": "ipython3",
   "version": "3.12.3"
  }
 },
 "nbformat": 4,
 "nbformat_minor": 5
}
